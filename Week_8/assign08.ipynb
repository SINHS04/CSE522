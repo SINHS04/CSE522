{
 "cells": [
  {
   "cell_type": "code",
   "execution_count": 2,
   "metadata": {},
   "outputs": [],
   "source": [
    "import numpy as np\n",
    "import matplotlib.pyplot as plt"
   ]
  },
  {
   "cell_type": "markdown",
   "metadata": {},
   "source": [
    "### 1번 문제: Probability Mass function(PMF)"
   ]
  },
  {
   "cell_type": "code",
   "execution_count": 3,
   "metadata": {},
   "outputs": [
    {
     "name": "stdout",
     "output_type": "stream",
     "text": [
      "{'Space': 1, 'Reality': 2, 'Mind': 3, 'Time': 4, 'Power': 5, 'Soul': 6}\n"
     ]
    },
    {
     "data": {
      "image/png": "[encoded data removed]",
      "text/plain": [
       "<Figure size 640x480 with 1 Axes>"
      ]
     },
     "metadata": {},
     "output_type": "display_data"
    },
    {
     "name": "stdout",
     "output_type": "stream",
     "text": [
      "[0.027777777777777776, 0.05555555555555555, 0.08333333333333333, 0.1111111111111111, 0.1388888888888889, 0.16666666666666669, 0.1388888888888889, 0.1111111111111111, 0.08333333333333333, 0.05555555555555555, 0.027777777777777776]\n"
     ]
    }
   ],
   "source": [
    "stones = ['Space', 'Reality', 'Mind', 'Time', 'Power', 'Soul']\n",
    "stones_scores = dict(zip(stones, range(1, 7))) # {'Space': 1, 'Reality': 2, 'Mind': 3, 'Time': 4, 'Power': 5, 'Soul': 6}\n",
    "print(stones_scores)\n",
    "\n",
    "n = list(range(2, 13))\n",
    "pmf = [0] * 11\n",
    "\n",
    "for i in stones:\n",
    "    for j in stones:\n",
    "        pmf[stones_scores[i] + stones_scores[j] - 2] += 1 / (len(stones)**2)\n",
    "\n",
    "plt.bar(n, pmf, color='hotpink')\n",
    "plt.show()\n",
    "\n",
    "print(pmf)\n",
    "### start ###"
   ]
  },
  {
   "cell_type": "markdown",
   "metadata": {},
   "source": [
    "### 2번 문제: PMF estimation"
   ]
  },
  {
   "cell_type": "code",
   "execution_count": 4,
   "metadata": {},
   "outputs": [],
   "source": [
    "def gen_data(func): # 입력된 PMF를 기반으로 data를 생성하는 함수\n",
    "    num_data=10000\n",
    "    x= np.linspace(0,99,100)\n",
    "    \n",
    "    # func의 argument는 수정 가능\n",
    "    p= func(x)\n",
    "    \n",
    "    error= 1-np.sum(p)\n",
    "    if error<0.1 and error >= 0:\n",
    "        p+=error/len(p)\n",
    "    else:\n",
    "        print(\"error:\",error,\" p의 총합이 1이 안됩니다.\")\n",
    "        return -100\n",
    "    \n",
    "    g_data = np.random.choice(x,num_data,p=p,replace=True)\n",
    "    return g_data\n",
    "\n",
    "def test(data, func):\n",
    "    error=0\n",
    "    test_num = 1000\n",
    "    for i in range(test_num):\n",
    "        error += np.mean(np.abs(np.sort(data)-np.sort(gen_data(func))))\n",
    "    \n",
    "    print(\"error:\",error/test_num)\n",
    "    return"
   ]
  },
  {
   "cell_type": "code",
   "execution_count": 5,
   "metadata": {},
   "outputs": [
    {
     "ename": "FileNotFoundError",
     "evalue": "[Errno 2] No such file or directory: 'data.npy'",
     "output_type": "error",
     "traceback": [
      "\u001b[0;31m---------------------------------------------------------------------------\u001b[0m",
      "\u001b[0;31mFileNotFoundError\u001b[0m                         Traceback (most recent call last)",
      "Cell \u001b[0;32mIn[5], line 1\u001b[0m\n\u001b[0;32m----> 1\u001b[0m data \u001b[38;5;241m=\u001b[39m \u001b[43mnp\u001b[49m\u001b[38;5;241;43m.\u001b[39;49m\u001b[43mload\u001b[49m\u001b[43m(\u001b[49m\u001b[38;5;124;43m\"\u001b[39;49m\u001b[38;5;124;43mdata.npy\u001b[39;49m\u001b[38;5;124;43m\"\u001b[39;49m\u001b[43m)\u001b[49m\n\u001b[1;32m      2\u001b[0m \u001b[38;5;28mprint\u001b[39m(data)\n\u001b[1;32m      3\u001b[0m _ \u001b[38;5;241m=\u001b[39m plt\u001b[38;5;241m.\u001b[39mhist(data, \u001b[38;5;241m100\u001b[39m, density\u001b[38;5;241m=\u001b[39m\u001b[38;5;28;01mTrue\u001b[39;00m)\n",
      "File \u001b[0;32m~/anaconda3/envs/CSE533/lib/python3.10/site-packages/numpy/lib/npyio.py:427\u001b[0m, in \u001b[0;36mload\u001b[0;34m(file, mmap_mode, allow_pickle, fix_imports, encoding, max_header_size)\u001b[0m\n\u001b[1;32m    425\u001b[0m     own_fid \u001b[38;5;241m=\u001b[39m \u001b[38;5;28;01mFalse\u001b[39;00m\n\u001b[1;32m    426\u001b[0m \u001b[38;5;28;01melse\u001b[39;00m:\n\u001b[0;32m--> 427\u001b[0m     fid \u001b[38;5;241m=\u001b[39m stack\u001b[38;5;241m.\u001b[39menter_context(\u001b[38;5;28;43mopen\u001b[39;49m\u001b[43m(\u001b[49m\u001b[43mos_fspath\u001b[49m\u001b[43m(\u001b[49m\u001b[43mfile\u001b[49m\u001b[43m)\u001b[49m\u001b[43m,\u001b[49m\u001b[43m \u001b[49m\u001b[38;5;124;43m\"\u001b[39;49m\u001b[38;5;124;43mrb\u001b[39;49m\u001b[38;5;124;43m\"\u001b[39;49m\u001b[43m)\u001b[49m)\n\u001b[1;32m    428\u001b[0m     own_fid \u001b[38;5;241m=\u001b[39m \u001b[38;5;28;01mTrue\u001b[39;00m\n\u001b[1;32m    430\u001b[0m \u001b[38;5;66;03m# Code to distinguish from NumPy binary files and pickles.\u001b[39;00m\n",
      "\u001b[0;31mFileNotFoundError\u001b[0m: [Errno 2] No such file or directory: 'data.npy'"
     ]
    }
   ],
   "source": [
    "data = np.load(\"data.npy\")\n",
    "print(data)\n",
    "_ = plt.hist(data, 100, density=True)"
   ]
  },
  {
   "cell_type": "code",
   "execution_count": null,
   "metadata": {},
   "outputs": [],
   "source": [
    "x= np.linspace(0,99,100)"
   ]
  },
  {
   "cell_type": "code",
   "execution_count": null,
   "metadata": {},
   "outputs": [
    {
     "data": {
      "image/png": "[encoded data removed]",
      "text/plain": [
       "<Figure size 640x480 with 1 Axes>"
      ]
     },
     "metadata": {},
     "output_type": "display_data"
    }
   ],
   "source": [
    "import math\n",
    "fac = math.factorial\n",
    "\n",
    "def func(x):\n",
    "    x = np.int8(x)\n",
    "    n_f = fac(len(x))\n",
    "    k_f = np.array([fac(i) for i in x])\n",
    "    n_k_f = np.array([fac(len(x)-i) for i in x])\n",
    "\n",
    "    prob = [0.4, 0.5, 0.6]\n",
    "    li = []\n",
    "\n",
    "    for p in prob:\n",
    "        p_pow_k = p ** x\n",
    "        p_pow_n_k = (1-p) ** (len(x) - x)\n",
    "        li.append(np.float64(n_f / (k_f * n_k_f) * p_pow_k * p_pow_n_k))\n",
    "\n",
    "    ret = 0\n",
    "    for i in li:\n",
    "        ret += i\n",
    "    ret /= 3\n",
    "\n",
    "    return ret\n",
    "\n",
    "# def func(x):\n",
    "#     x = np.int8(x)\n",
    "#     p = 0.5\n",
    "#     r = 50\n",
    "#     r_f = fac(r - 1)\n",
    "\n",
    "#     xCr = np.array([fac(i + r - 1) / (fac(i) * r_f) for i in x])\n",
    "#     p_pow_r = p ** r\n",
    "#     p_pow_k_r = (1-p) ** x\n",
    "\n",
    "#     ret = xCr * p_pow_r * p_pow_k_r\n",
    "#     ret = np.float64(ret)\n",
    "\n",
    "#     return ret\n",
    "\n",
    "my_data = gen_data(func)\n",
    "_ = plt.hist(my_data, 100, density=True)"
   ]
  },
  {
   "cell_type": "code",
   "execution_count": null,
   "metadata": {},
   "outputs": [
    {
     "name": "stdout",
     "output_type": "stream",
     "text": [
      "error: 0.14270779999999986\n"
     ]
    }
   ],
   "source": [
    "test(data, func) # uniform"
   ]
  },
  {
   "cell_type": "markdown",
   "metadata": {},
   "source": [
    "## 고찰\n",
    " - 3개의 이항분포를 사용해 구현했는데 처음에 어떻게 구현해야 할지 몰라서 당황했다.\n",
    " - 모든 PMF, PDF를 다 구현해보아도 두꺼운 확률분포 그래프가 그려지지 않아 여러개를 합성해봐야겠단 생각이 들었다.\n",
    " - 3개를 적절히 합성하니 오차가 0.15로 줄었다."
   ]
  }
 ],
 "metadata": {
  "kernelspec": {
   "display_name": "Ai_Basic",
   "language": "python",
   "name": "python3"
  },
  "language_info": {
   "codemirror_mode": {
    "name": "ipython",
    "version": 3
   },
   "file_extension": ".py",
   "mimetype": "text/x-python",
   "name": "python",
   "nbconvert_exporter": "python",
   "pygments_lexer": "ipython3",
   "version": "3.10.13"
  }
 },
 "nbformat": 4,
 "nbformat_minor": 2
}
