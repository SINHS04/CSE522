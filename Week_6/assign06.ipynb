{
 "cells": [
  {
   "cell_type": "code",
   "execution_count": 2,
   "metadata": {},
   "outputs": [],
   "source": [
    "import numpy as np\n",
    "\n",
    "lucky_box = np.load('luckybox.npy')\n",
    "unique, count = np.unique(lucky_box, return_counts=True)"
   ]
  },
  {
   "cell_type": "code",
   "execution_count": 4,
   "metadata": {},
   "outputs": [
    {
     "data": {
      "text/plain": [
       "{'0': 0.714285712244898,\n",
       " '1': 2.857142848979592e-09,\n",
       " '2': 0.01428571424489796,\n",
       " '3': 0.042857142734693876,\n",
       " '4': 0.05714285697959184,\n",
       " '5': 0.1714285709387755}"
      ]
     },
     "execution_count": 4,
     "metadata": {},
     "output_type": "execute_result"
    }
   ],
   "source": [
    "gt_probability = {}\n",
    "for n, cnt in zip(unique, count):\n",
    "    gt_probability[str(int(n))] = cnt/np.sum(count)\n",
    "gt_probability"
   ]
  },
  {
   "cell_type": "code",
   "execution_count": 5,
   "metadata": {},
   "outputs": [
    {
     "name": "stdout",
     "output_type": "stream",
     "text": [
      "fail the test\n"
     ]
    }
   ],
   "source": [
    "def check(error):\n",
    "    if error < 0.0001 :\n",
    "        print('pass the test')\n",
    "    else:\n",
    "        print('fail the test')\n",
    "        \n",
    "def eval(my_probability):\n",
    "    error = 0\n",
    "    for key, _ in gt_probability.items():\n",
    "        error += np.abs(gt_probability[key]-my_probability[key])\n",
    "    # print(gt_probability)\n",
    "    # print(my_probability)\n",
    "    # print('error: ', error)\n",
    "    return error\n",
    "    \n",
    "my_probability = {'0': 1/6, '1': 1/6, '2': 1/6, '3': 1/6, '4': 1/6, '5': 1/6}\n",
    "error = eval(my_probability)\n",
    "check(error)"
   ]
  },
  {
   "cell_type": "markdown",
   "metadata": {},
   "source": [
    "## 이번 실습은 numpy library를 사용하지 않고 구현해야 합니다."
   ]
  },
  {
   "cell_type": "markdown",
   "metadata": {},
   "source": [
    "### 1번 문제: 전체 탐색을 통한 counting "
   ]
  },
  {
   "cell_type": "code",
   "execution_count": 6,
   "metadata": {},
   "outputs": [
    {
     "name": "stdout",
     "output_type": "stream",
     "text": [
      "pass the test\n"
     ]
    }
   ],
   "source": [
    "### Your code - Start ###\n",
    "\n",
    "cnt = [0] * 6\n",
    "size = len(lucky_box)\n",
    "\n",
    "for i in lucky_box:\n",
    "    cnt[int(i)] += 1\n",
    "\n",
    "my_probability = {\n",
    "    '0': cnt[0]/size,\n",
    "    '1': cnt[1]/size,\n",
    "    '2': cnt[2]/size,\n",
    "    '3': cnt[3]/size,\n",
    "    '4': cnt[4]/size,\n",
    "    '5': cnt[5]/size\n",
    "}\n",
    "\n",
    "### Your code - End ###\n",
    "\n",
    "error = eval(my_probability)\n",
    "check(error)"
   ]
  },
  {
   "cell_type": "markdown",
   "metadata": {},
   "source": [
    "### 2번 문제: random sampling을 통한 counting"
   ]
  },
  {
   "cell_type": "code",
   "execution_count": 7,
   "metadata": {},
   "outputs": [
    {
     "name": "stdout",
     "output_type": "stream",
     "text": [
      "pass the test\n"
     ]
    }
   ],
   "source": [
    "import random\n",
    "\n",
    "### Your code - Start ###\n",
    "\n",
    "def random_sampling(trial):\n",
    "    cnt = [0] * 6\n",
    "    size = len(lucky_box)\n",
    "\n",
    "    for i in range(trial):\n",
    "        rNum = random.randrange(size)\n",
    "        cnt[int(lucky_box[rNum])] += 1\n",
    "\n",
    "    prob = {\n",
    "        '0': cnt[0]/trial,\n",
    "        '1': cnt[1]/trial,\n",
    "        '2': cnt[2]/trial,\n",
    "        '3': cnt[3]/trial,\n",
    "        '4': cnt[4]/trial,\n",
    "        '5': cnt[5]/trial\n",
    "    }\n",
    "\n",
    "    return prob\n",
    "\n",
    "trial = 100_000_000\n",
    "my_probability = random_sampling(trial)\n",
    "\n",
    "### Your code - End ###\n",
    "\n",
    "error = eval(my_probability)\n",
    "check(error)"
   ]
  },
  {
   "cell_type": "code",
   "execution_count": 8,
   "metadata": {},
   "outputs": [
    {
     "name": "stdout",
     "output_type": "stream",
     "text": [
      "{'0': 0.71432851, '1': 0.0, '2': 0.01428017, '3': 0.04282207, '4': 0.0571358, '5': 0.17143345}\n"
     ]
    }
   ],
   "source": [
    "print(my_probability)"
   ]
  },
  {
   "cell_type": "markdown",
   "metadata": {},
   "source": [
    "### 3번 error analysis"
   ]
  },
  {
   "cell_type": "code",
   "execution_count": 14,
   "metadata": {},
   "outputs": [],
   "source": [
    "import random\n",
    "import matplotlib.pyplot as plt\n",
    "\n",
    "### Your code - Start ###\n",
    "\n",
    "x = []\n",
    "y = []\n",
    "for trial in range(1, 10_000):\n",
    "    prob = random_sampling(trial)\n",
    "    x.append(trial)\n",
    "    y.append(eval(prob))\n",
    "\n",
    "plt.scatter(x, y, color='blue', s=5)\n",
    "plt.show()\n",
    "\n",
    "### Your code - End ###"
   ]
  },
  {
   "cell_type": "markdown",
   "metadata": {},
   "source": [
    "### 고찰"
   ]
  },
  {
   "cell_type": "markdown",
   "metadata": {},
   "source": [
    "구현에 크게 어려움은 없었다.\n",
    "\n",
    "다만 코드를 짜보면서 느낀 점들이 있다.\n",
    " - 반복에 따른 확률 변화를 직접 보면서 전체 counting을 통한 확률 분석과 random sampling을 통한 확률 분석이 크게 다르지 않다는 것을 느꼈다.\n",
    " - 물론 random sampling시 일정 수준 이상의 반복을 해야하는 것은 마찬가지이지만, 특정 값을 지나면 확률이 크게 변하지 않는 것을 확인할 수 있다.\n",
    " - 반복횟수가 무한에 가까워질수록 전체 counting을 통해 구한 확률과 같아진다."
   ]
  }
 ],
 "metadata": {
  "interpreter": {
   "hash": "7df67fadbb8f1573ef586722c109f4cb5351f3c79370d5e9aa17bc5ec258154f"
  },
  "kernelspec": {
   "display_name": "Python 3.10.0 ('pstkim')",
   "language": "python",
   "name": "python3"
  },
  "language_info": {
   "codemirror_mode": {
    "name": "ipython",
    "version": 3
   },
   "file_extension": ".py",
   "mimetype": "text/x-python",
   "name": "python",
   "nbconvert_exporter": "python",
   "pygments_lexer": "ipython3",
   "version": "3.11.5"
  },
  "orig_nbformat": 4
 },
 "nbformat": 4,
 "nbformat_minor": 2
}
