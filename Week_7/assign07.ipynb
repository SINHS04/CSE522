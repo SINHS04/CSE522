{
 "cells": [
  {
   "cell_type": "code",
   "execution_count": 1,
   "metadata": {},
   "outputs": [
    {
     "name": "stdout",
     "output_type": "stream",
     "text": [
      "Requirement already satisfied: ucimlrepo in c:\\users\\koreatech\\anaconda4\\lib\\site-packages (0.0.3)\n",
      "Requirement already satisfied: pandas in c:\\users\\koreatech\\anaconda4\\lib\\site-packages (2.0.3)\n",
      "Requirement already satisfied: python-dateutil>=2.8.2 in c:\\users\\koreatech\\anaconda4\\lib\\site-packages (from pandas) (2.8.2)\n",
      "Requirement already satisfied: pytz>=2020.1 in c:\\users\\koreatech\\anaconda4\\lib\\site-packages (from pandas) (2023.3.post1)\n",
      "Requirement already satisfied: tzdata>=2022.1 in c:\\users\\koreatech\\anaconda4\\lib\\site-packages (from pandas) (2023.3)\n",
      "Requirement already satisfied: numpy>=1.21.0 in c:\\users\\koreatech\\anaconda4\\lib\\site-packages (from pandas) (1.24.3)\n",
      "Requirement already satisfied: six>=1.5 in c:\\users\\koreatech\\anaconda4\\lib\\site-packages (from python-dateutil>=2.8.2->pandas) (1.16.0)\n"
     ]
    }
   ],
   "source": [
    "# 최초 실행 시\n",
    "! pip install ucimlrepo\n",
    "! pip install pandas"
   ]
  },
  {
   "cell_type": "code",
   "execution_count": 3,
   "metadata": {},
   "outputs": [],
   "source": [
    "from ucimlrepo import fetch_ucirepo \n",
    "import numpy as np\n",
    "  \n",
    "# fetch dataset \n",
    "car_evaluation = fetch_ucirepo(id=19)\n",
    "  \n",
    "# data (as pandas dataframes) \n",
    "X = car_evaluation.data.features \n",
    "y = car_evaluation.data.targets "
   ]
  },
  {
   "cell_type": "code",
   "execution_count": 4,
   "metadata": {},
   "outputs": [],
   "source": [
    "X = X.to_dict('records')\n",
    "y = y.to_dict('records')"
   ]
  },
  {
   "cell_type": "code",
   "execution_count": 5,
   "metadata": {},
   "outputs": [
    {
     "name": "stdout",
     "output_type": "stream",
     "text": [
      "<class 'list'>\n",
      "<class 'list'>\n"
     ]
    }
   ],
   "source": [
    "print(type(X))\n",
    "print(type(y))"
   ]
  },
  {
   "cell_type": "code",
   "execution_count": 6,
   "metadata": {},
   "outputs": [
    {
     "name": "stdout",
     "output_type": "stream",
     "text": [
      "{'buying': 'vhigh', 'maint': 'vhigh', 'doors': '2', 'persons': '2', 'lug_boot': 'small', 'safety': 'low'}\n",
      "{'class': 'unacc'}\n",
      "1728\n"
     ]
    }
   ],
   "source": [
    "print(X[0])\n",
    "print(y[0])\n",
    "print(len(X))"
   ]
  },
  {
   "cell_type": "markdown",
   "metadata": {},
   "source": [
    "### 1번 문제: Bayes theorem"
   ]
  },
  {
   "cell_type": "code",
   "execution_count": 7,
   "metadata": {},
   "outputs": [
    {
     "name": "stdout",
     "output_type": "stream",
     "text": [
      "prior: 0.03761574074074074\n",
      "normConstarint: 0.3333333333333333\n",
      "likelyhood: 0.11284722222222222\n",
      "posterior: 0.012734495563271607\n"
     ]
    }
   ],
   "source": [
    "# p(vgood|high) = p(F,E)\n",
    "\n",
    "def posterior(X, y, F, feature, E) :\n",
    "    # Prior\n",
    "    prior = 0\n",
    "    for t in y:\n",
    "        if t['class'] == F:\n",
    "            prior += 1\n",
    "    prior /= len(y)\n",
    "    \n",
    "    print(f'prior: {prior}')\n",
    "\n",
    "    # Normalization constraint\n",
    "    normConstarint = 0\n",
    "    for x in X:\n",
    "        if x[feature] == E:\n",
    "            normConstarint += 1\n",
    "    normConstarint /= len(X)\n",
    "    \n",
    "    print(f'normConstarint: {normConstarint}')\n",
    "\n",
    "    # Likelyhood\n",
    "    likelyhood = 0\n",
    "    cnt = 0\n",
    "    for x, t in zip(X, y):\n",
    "        if x[feature] == E:\n",
    "            cnt += 1\n",
    "            if t['class'] == F:\n",
    "                likelyhood += 1\n",
    "    likelyhood /= cnt\n",
    "    \n",
    "    print(f'likelyhood: {likelyhood}')\n",
    "\n",
    "    # Posterior\n",
    "    posterior = likelyhood * prior / normConstarint\n",
    "    \n",
    "    print(f'posterior: {posterior}')\n",
    "\n",
    "posterior(X, y, F='vgood', feature='safety', E='high')"
   ]
  },
  {
   "cell_type": "markdown",
   "metadata": {},
   "source": [
    "### 2번 문제: Independent"
   ]
  },
  {
   "cell_type": "code",
   "execution_count": 8,
   "metadata": {},
   "outputs": [
    {
     "name": "stdout",
     "output_type": "stream",
     "text": [
      "0.25 0.3333333333333333 4.8225308641975306e-05\n",
      ">> P(E) and P(F) are independent\n",
      "\n",
      "0.25 0.3333333333333333 4.8225308641975306e-05\n",
      ">> P(E) and P(F) are independent\n",
      "\n"
     ]
    }
   ],
   "source": [
    "def independent(X, y, feat_1, feat_2, E, F) :\n",
    "    \n",
    "    prob_e = 0\n",
    "    prob_f = 0\n",
    "    prob_ef = 0\n",
    "    \n",
    "    for x in X:\n",
    "        if x[feat_1] == E:\n",
    "            prob_e += 1\n",
    "        \n",
    "        if x[feat_2] == F:\n",
    "            prob_f += 1\n",
    "            \n",
    "        if x[feat_1] == E and x[feat_2] == F:\n",
    "            prob_ef += 1\n",
    "    \n",
    "    a = prob_e * prob_f / (len(X)**2)\n",
    "    b = prob_ef / len(X)\n",
    "    \n",
    "    print(prob_e/len(X), prob_f/len(X), prob_ef/(len(X)**2))\n",
    "    \n",
    "    result = 'independent' if a == b else 'dependent'\n",
    "    print(f'>> P(E) and P(F) are {result}\\n')\n",
    "    \n",
    "    return\n",
    "\n",
    "# independent case    \n",
    "independent(X, y, feat_1='buying', feat_2='safety', E='high', F='med')\n",
    "\n",
    "# dependent case\n",
    "independent(X, y, feat_1='buying', feat_2='safety', E='vhigh', F='low')"
   ]
  },
  {
   "cell_type": "markdown",
   "metadata": {},
   "source": [
    "## 고찰\n",
    " - 수업시간에 배운 확률을 직접 계산해보며 확실하게 체득할 수 있었다.\n",
    " - 상호배제, 독립, 의존 관계를 파악할 수 있었다.\n",
    " - 직접 데이터를 분석해보고, 왜 이 데이터가 모든 feature에 대해 상호 독립인지 알 수 있었다.\n",
    " - likelyhood의 의미를 명확하게 알 수 있었다."
   ]
  }
 ],
 "metadata": {
  "kernelspec": {
   "display_name": "Ai_Basic",
   "language": "python",
   "name": "python3"
  },
  "language_info": {
   "codemirror_mode": {
    "name": "ipython",
    "version": 3
   },
   "file_extension": ".py",
   "mimetype": "text/x-python",
   "name": "python",
   "nbconvert_exporter": "python",
   "pygments_lexer": "ipython3",
   "version": "3.11.5"
  }
 },
 "nbformat": 4,
 "nbformat_minor": 2
}
